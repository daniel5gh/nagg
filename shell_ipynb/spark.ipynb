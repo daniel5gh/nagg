{
 "cells": [
  {
   "cell_type": "code",
   "execution_count": 1,
   "metadata": {
    "collapsed": false
   },
   "outputs": [],
   "source": [
    "%matplotlib inline\n",
    "\n",
    "#import os\n",
    "#os.environ[\"PYSPARK_PYTHON\"] = \"python3\"\n",
    "#import findspark\n",
    "#findspark.init('/home/daniel/spark-1.5.0-bin-hadoop2.6')\n",
    "from brains import spark_common\n",
    "import pyspark\n",
    "from pyspark import SparkContext, SparkConf, SQLContext\n",
    "import matplotlib.pyplot as plt, mpld3\n",
    "mpld3.enable_notebook()"
   ]
  },
  {
   "cell_type": "code",
   "execution_count": null,
   "metadata": {
    "collapsed": true
   },
   "outputs": [],
   "source": [
    ""
   ]
  },
  {
   "cell_type": "code",
   "execution_count": 2,
   "metadata": {
    "collapsed": false
   },
   "outputs": [],
   "source": [
    "sc = spark_common.get_spark_context('nagg_shell')\n",
    "sqlContext = SQLContext(sc)"
   ]
  },
  {
   "cell_type": "code",
   "execution_count": 11,
   "metadata": {
    "collapsed": false
   },
   "outputs": [
    {
     "name": "stdout",
     "output_type": "stream",
     "text": [
      "1\n",
      "16\n"
     ]
    }
   ],
   "source": [
    "df = sqlContext.read.format('jdbc').options(\n",
    "    url='jdbc:postgresql://10.0.3.7/naggdb?user=nagg&password=nagg',\n",
    "    dbtable='(select text from nagg_newsitem) as item'\n",
    ").load()\n",
    "\n",
    "#.sql(\"SELECT text FROM `public.nagg_newsitem`\")\n",
    "\n",
    "print(df.rdd.getNumPartitions())\n",
    "df = df.repartition(16)\n",
    "print(df.rdd.getNumPartitions())"
   ]
  },
  {
   "cell_type": "code",
   "execution_count": 12,
   "metadata": {
    "collapsed": false
   },
   "outputs": [
    {
     "name": "stdout",
     "output_type": "stream",
     "text": [
      "+--------------------+\n",
      "|                text|\n",
      "+--------------------+\n",
      "|Parlement bestaat...|\n",
      "|Bedrijf werkt aan...|\n",
      "|Koenders schaart ...|\n",
      "|Zeilsters Kyranak...|\n",
      "|Hengeloër (23) ko...|\n",
      "|Miljardenbod Alib...|\n",
      "|Kamerdebat Parijs...|\n",
      "|De geheimen van o...|\n",
      "|Hardstyle feest a...|\n",
      "|Moslimrector opni...|\n",
      "|Tiener claimt hac...|\n",
      "|<p>Zo print je va...|\n",
      "|Huurders mogen be...|\n",
      "|VS en EU naderen ...|\n",
      "|Goudse zangeres v...|\n",
      "|Fiscus: Scientolo...|\n",
      "|Delftse fysici be...|\n",
      "|Eindelijk weten w...|\n",
      "|'Mighty No. 9 wor...|\n",
      "|VN: Tsjechië bero...|\n",
      "+--------------------+\n",
      "only showing top 20 rows\n",
      "\n"
     ]
    }
   ],
   "source": [
    "df_texts = df.select('text')\n",
    "df_texts.show()"
   ]
  },
  {
   "cell_type": "code",
   "execution_count": 13,
   "metadata": {
    "collapsed": false
   },
   "outputs": [
    {
     "data": {
      "text/plain": [
       "16"
      ]
     },
     "execution_count": 13,
     "metadata": {},
     "output_type": "execute_result"
    }
   ],
   "source": [
    "df_texts.rdd.getNumPartitions()"
   ]
  },
  {
   "cell_type": "code",
   "execution_count": 17,
   "metadata": {
    "collapsed": false
   },
   "outputs": [
    {
     "data": {
      "text/plain": [
       "43374"
      ]
     },
     "execution_count": 17,
     "metadata": {},
     "output_type": "execute_result"
    }
   ],
   "source": [
    "df_texts.count()"
   ]
  },
  {
   "cell_type": "code",
   "execution_count": 14,
   "metadata": {
    "collapsed": false
   },
   "outputs": [],
   "source": [
    "import re\n",
    "r = re.compile(r'[^a-z0-9 ]')\n",
    "def removePunctuation(text):\n",
    "    \"\"\"Removes punctuation, changes to lower case, and strips leading and trailing spaces.\n",
    "\n",
    "    Note:\n",
    "        Only spaces, letters, and numbers should be retained.  Other characters should should be\n",
    "        eliminated (e.g. it's becomes its).  Leading and trailing spaces should be removed after\n",
    "        punctuation is removed.\n",
    "\n",
    "    Args:\n",
    "        text (str): A string.\n",
    "\n",
    "    Returns:\n",
    "        str: The cleaned up string.\n",
    "    \"\"\"\n",
    "    return r.sub(' ', text.lower()).strip()\n",
    "\n",
    "def wordCount(wordListRDD):\n",
    "    \"\"\"Creates a pair RDD with word counts from an RDD of words.\n",
    "\n",
    "    Args:\n",
    "        wordListRDD (RDD of str): An RDD consisting of words.\n",
    "\n",
    "    Returns:\n",
    "        RDD of (str, int): An RDD consisting of (word, count) tuples.\n",
    "    \"\"\"\n",
    "    return (wordListRDD\n",
    "               .map(lambda x: (x, 1))\n",
    "               .groupByKey()\n",
    "               .map(lambda x: (x[0], sum(x[1])))\n",
    "               .reduceByKey(lambda x,y:x+y)\n",
    "            )\n",
    "\n",
    "import nltk\n",
    "from nltk.stem.snowball import SnowballStemmer\n",
    "stemmer = SnowballStemmer(\"dutch\")\n",
    "stopwords = set(nltk.corpus.stopwords.words('dutch'))\n",
    "\n",
    "def tokenize_and_stem(text):\n",
    "    text = text.lower().replace('twitter.com', '').replace('class=', '').replace('lockquote', '').replace('\\n', ' ')\n",
    "    text = r.sub('', text).strip()\n",
    "    # first tokenize by sentence, then by word to ensure that punctuation is caught as it's own token\n",
    "    tokens = [word for sent in nltk.sent_tokenize(text) for word in nltk.word_tokenize(sent)]\n",
    "    filtered_tokens = []\n",
    "    # filter out any tokens not containing letters (e.g., numeric tokens, raw punctuation)\n",
    "    for token in tokens:\n",
    "        if re.search('[a-zA-Z]', token):\n",
    "            filtered_tokens.append(token)\n",
    "    stems = [stemmer.stem(t) for t in filtered_tokens]\n",
    "    return [_ for _ in stems if _ not in stopwords]"
   ]
  },
  {
   "cell_type": "code",
   "execution_count": 15,
   "metadata": {
    "collapsed": false
   },
   "outputs": [
    {
     "name": "stdout",
     "output_type": "stream",
     "text": [
      "PythonRDD[26] at RDD at PythonRDD.scala:43\n"
     ]
    },
    {
     "data": {
      "text/plain": [
       "['Parlement bestaat twee eeuwen, maar de democratie nog lang niet\\n\\n\\nVandaag vieren we tweehonderd jaar Staten-Generaal. Betekent dat dus ook tweehonderd jaar democratie in Nederland? Nee, verre van dat.\\n\\n\\n\\nEerste en Tweede Kamer komen vandaag in verenigde vergadering bijeen om te gedenken dat exact tweehonderd jaar geleden, 16 oktober 1815, de Tweede Kamer voor het eerst bijeen kwam in Den Haag. Tweehonderd jaar Staten-Generaal, maar het is de vraag of die datum nu de beste is.De Tweede Kamer, toen nog alleen bestaande uit leden uit de noordelijke Nederlanden, kwam het jaar daarvoor al bijeen en bestond uit door de koning benoemde leden. Het eerste gekozen parlement, de Nationale Conventie van de Bataafse Republiek, kwam zelfs al ruim twintig jaar daarvoor bijeen.Er is een goede redenering om 1815 te nemen als jaar waarin de moderne Nederlandse volksvertegenwoordiging met haar werk begon. Door de toetreding van België tot het Koninkrijk der Nederlanden kreeg de volksvertegenwoordiging twee kamers. Maar dan nog steeds is 16 oktober niet de meest logische datum. Op 21 september komen de beide kamers in verenigde vergadering bijeen in Brussel. Na afloop van die vergadering legt de dan nieuwbakken koning Willem I de eed op de Grondwet af.GeschiedvervalsingToch is gekozen voor 16 oktober. Geen plechtige beschouwingen vandaag in de Ridderzaal, maar, als teken van deze tijd, met artiesten als Douwe Bob. Plechtigheid en afstandelijkheid horen niet meer zo bij het moderne parlement.Dat tweehonderd jaar volksvertegenwoordiging juist nu herdacht wordt, is dus eigenlijk geschiedvervalsing. Het parlement van de Bataafse Republiek kon zich met meer recht een volksvertegenwoordiging noemen dan na 1815 de Eerste en Tweede Kamer der Staten-Generaal. In de Bataafse Republiek was nog sprake van verkiezingen, de Eerste Kamer tot 1848 en de Tweede Kamer in haar eerste samenstelling bestonden uit door de koning benoemde leden. Maar het parlement herdenken vanaf de Bataafse Republiek feest wellicht wat minder prettig, zoals de fractievoorzitter van D66 in de Eerste Kamer, Thom de Graaf, stelde. Dat parlement stamt immers uit de tijd dat de Oranjes verbannen waren uit de Nederlanden.De geschiedenis van het Nederlandse parlement is een geschiedenis van strijd om zeggenschap. Tot 1848 streefden de Kamers naar onafhankelijkheid tegenover het staatshoofd, de koning. Na 1848 ging de zeggenschap langzaamaan over naar de zuilen als de organisaties die wisten wat hun achterban nodig had. Pas in de jaren zestig van de vorige eeuw kwam de kiezer in beeld. Niet langer als lid van een groep, maar als bewust burger met een individuele mening. Hoe die burger een goede plek te geven, blijft echter nog steeds onderwerp van discussie.\\n\\n\\n\\n1815-1848: Parlement in dienst van de koningTweehonderd jaar Staten-Generaal, dus ook tweehonderd jaar democratie? Nee, verre van dat, al werd in 1815 wel de basis gelegd. Algemeen kiesrecht bestond niet in 1815. De volksvertegenwoordiging die er in dat jaar kwam na hereniging van de noordelijke met de zuidelijke Nederlanden (het huidige België), bestond op aandrang van het zuiden uit twee Kamers. Een Eerste Kamer, waarvan de leden werden benoemd door de koning. Dat werd een club van koningsgezinde jaknikkers, \\'aanzienlijken\\', voor een groot deel van adel.De Tweede Kamer kreeg 110 leden (55 voor het noorden, 55 voor het zuiden), gekozen door de Provinciale Staten die op hun beurt voornamelijk een standenmaatschappij vertegenwoordigden met een aanzienlijk aandeel voor de oude adel. Ministeriële verantwoordelijkheid bestond niet: ministers waren verantwoording verschuldigd aan de koning, niet aan het parlement.En dat parlement had weliswaar budgetrecht (het recht om begrotingen goed of af te keuren), maar er waren twee soorten begrotingen: één begroting voor de vaste uitgaven die voor tien jaar werd vastgelegd, en één voor de variabele uitgaven, jaarlijks vast te stellen. Zo kon de koning voor wat betreft een groot deel van de uitgaven langdurig buiten het parlement om regeren.Bovendien maakte de eerste koning, Willem I, zoon van de laatste stadhouder, al gauw gebruik van de mogelijkheid om per decreet, via algemene maatregelen van bestuur, buiten de Staten-Generaal om te regeren. Dat kwam precies overeen met de bedoeling die hij vanaf het begin na terugkeer in Nederland uit ballingschap had. In zijn ogen was de volksvertegenwoordiging niet meer dan een speeltje voor het volk, zo schreef hij aan zijn zoon, de latere koning Willem II. Willem zag zichzelf als een landsvader, aan wie de kinderen, het volk, gehoorzaamheid verschuldigd waren. Die Staten-Generaal moesten zich vooral niet te veel verbeelden.1848-1867: Parlement maakt zich los van de koningHet jaar 1848 staat in het nationale geheugen gegrift als het jaar waarin de toenmalige koning Willem II in één nacht van conservatief liberaal werd. Angst voor revolutie, dat \\'spook\\' dat rondwaarde in Europa, maakte hem toegeeflijk. Zij het dat in zijn twee jaar geleden verschenen biografie een nieuw inkijkje wordt gegeven in die zo plotselinge liberale gezindheid van de koning: hij zou zijn gechanteerd door lui die op de hoogte waren van zijn homoseksuele praktijken. Kern van de grondwetswijziging van 1848 is de invoering van de ministeriële verantwoordelijkheid in politieke zin. Sindsdien geldt de regel: \\'De koning is onschendbaar, de ministers zijn verantwoordelijk\\'. De strafrechtelijke verantwoordelijkheid van ministers was al geregeld in 1840. Het was een van de belangrijke redenen voor koning Willem I om in dat jaar af te treden.\\n\\n\\n\\nDe tweede belangrijke verandering in 1848 is de invoering van de rechtstreekse verkiezing van de Tweede Kamer, Provinciale Staten en gemeenteraden. Maar wel op basis van \\'censuskiesrecht\\'. Dat wil zeggen dat het stemrecht alleen voor die Nederlanders was weggelegd die een bepaald bedrag aan belastingen betaalden. De Eerste kamer zou voortaan worden verkozen door de Provinciale Staten uit de pakweg duizend Nederlanders die de meeste belastingen betaalden. De Tweede Kamer kreeg voor het eerst ook het recht van amendement (het recht om wetsvoorstellen op onderdelen te wijzigen) en het interpellatierecht (recht om informatie op te eisen van de regering).Het zou overigens nog tot 1868 duren voordat het principe van de ministeriële verantwoordelijkheid, het idee dat een kabinet het vertrouwen van de Tweede Kamer moet genieten, ook daadwerkelijk in de praktijk werd gebracht. In 1867 verloor minister van buitenlandse zaken Van Zuylen in de zogeheten Luxemburgse kwestie het vertrouwen van de Tweede Kamer. Maar in plaats van af te treden bleef het kabinet zitten en ontbond de koning de Tweede Kamer voor nieuwe verkiezingen. De nieuw gekozen Tweede Kamer verwierp vervolgens de ontbinding van het vorige parlement en verwierp ook opnieuw de begroting van Buitenlandse Zaken. Pas toen stapte het kabinet op. Sindsdien geldt de ongeschreven regel dat een kabinet dat niet het vertrouwen geniet van de meerderheid van de Kamer moet vertrekken.1867-1917: Parlement wordt volksvertegenwoordigingVoor een algemeen stemrecht, zoals door radicale liberalen als Sam. van Houten bepleit, was vooralsnog geen meerderheid. \"Liever irrationeel kiesrecht dan algemeen kiesrecht\", liet de liberale premier Kappeyne van de Coppello zich eens ontvallen.Maar in de jaren tachtig van de negentiende eeuw nam de druk wel toe. De Sociaal-Democratische Bond van Ferdinand Domela Nieuwenhuis begon demonstraties te organiseren onder het motto: \\'Algemeen kiesrecht of revolutie\\'. De sociale onrust nam toe en nam zo nu en dan ook gewelddadige vormen aan. Ook de \\'kleine luyden\\' van de anti-revolutionaire voorman Abraham Kuyper, \\'het volk achter de kiezers\\', begonnen zich te roeren. Vooral om, samen met de katholieken, gelijkstelling van het bijzonder aan het openbaar onderwijs te bewerkstelligen. Over uitbreiding van het kiesrecht waren de confessionelen verdeeld.\\n\\n\\n\\nIn 1885 maakte premier Heemskerk zich zo zorgen over een kiesrechtdemonstratie op Prinsjesdag dat hij Haagse weesmeisjes liet aanrukken om de publieke tribune in de vergaderzaal van de Tweede Kamer te vullen. Zo hield hij de demonstranten buiten de deur. In 1887 kwam het tot een verruiming door het kiesrecht toe te kennen aan mannelijke ingezetenen die door de kieswet te bepalen kentekenen van geschiktheid en maatschappelijke welstand bezitten. Door de rekkelijkheid van deze omschrijving werd het bekend als het \\'caoutchoukartikel\\'. Het leidde tot een verdubbeling van het aantal kiesgerechtigden. In 1896 zorgde Van Houten voor nog verder uitbreiding van het kiesrecht.In 1913 had 65 procent van de volwassen (25 jaar en ouder) mannelijke bevolking kiesrecht. Uiteindelijk zorgde het kabinet van de liberaal Cort van der Linden voor de ultieme doorbraak. Hij sloot een grote deal met de confessionelen. In ruil voor gelijkstelling van het bijzonder aan het openbaar onderwijs werkten zij mee aan het algemeen mannenkiesrecht dat in 1918 werd ingevoerd. Gelijktijdig werd overgestapt van het districtenstelsel naar het huidige stelsel van evenredige vertegenwoordiging. In 1919 kregen ook vrouwen kiesrecht.1945-1946: Aan een zijden draadVijf jaar kwam het parlement niet bijeen. Er was uiteindelijk een regering, maar die regering zetelde in Londen, niet op de vingers gekeken door ruziënde en het eigen belang nastrevende parlementariërs. Barre tijden, maar ook een verademing voor koningin Wilhelmina.De jaren dertig waren tijden geweest van stagnatie en antithese. En niet alleen tussen christelijke partijen en de sociaal-democraten, met wie slechts in uiterste noodzaak mocht worden samengewerkt. Uit vrees de eigen arbeiders in de achterban te verliezen, schilderden met name de katholieken de SDAP af als de grote vijand. Pas vlak voor de Duitse inval, in 1939, werd de basis gelegd voor samenwerking tussen katholieken en sociaal-democraten in de jaren vijftig.Door een motie van de katholiek Deckers, waarin de gang van zaken rond de vorming van Colijns laatste kabinet werd afgekeurd, was het gedaan met de politieke loopbaan van de premier. De motie werd gesteund door de SDAP. In het daaropvolgende kabinet-De Geer kreeg de SDAP twee ministers.Politiek was in de jaren dertig vooral \\'gedoe\\'. In Londen filosofeerde Wilhelmina al regelmatig over de vraag of het niet anders kon. Bijvoorbeeld door het verzet een prominente rol te geven in de vaderlandse politiek.\\n\\n\\n\\nDe vertegenwoordigende democratie bleek in de krap 150 jaar echter te stevig geworteld. Het noodkabinet Schermerhorn/Drees maakte geen haast met verkiezingen en wilde van het noodparlement een \\'instituut zonder inhoud\\' maken. Maar dat parlement, samengesteld uit mensen die bij de laatste verkiezingen in 1937 gekozen waren en leden van het verzet, dacht daar volstrekt anders over. In het voorjaar van 1946 volgden de eerste verkiezingen na de bevrijding - veel eerder dan het kabinet van plan was geweest - en kon de parlementaire democratie herleven.1966 - nu: De kiezer komt in beeldZelden prijkte het hoofd van een Nederlands politcus op de voorpagina van The New York Times. Maar in februari 1967 lukte Hans van Mierlo dat. Een foto van Van Mierlo tijdens de uitslagenavond van D66 (toen nog met een apostrof in D\\'66), in Krasnapolsky in Amsterdam met een glas bier in de hand. Star rises in Dutch politics, er komt een ster op in de Nederlandse politiek, kopte de krant boven de foto.Van Mierlo leende veel elementen uit Amerikaanse campagnes en stormde met zeven zetels de Tweede Kamer binnen. Nog nooit vertoond in de Nederlandse politiek, waar de machtsverhoudingen min of meer in beton gegoten waren.D\\'66 kwam op op de golven van grote veranderingen in de samenleving. De burger werd mondiger, de voorlieden van de zuilen verloren gezag. De kiezer was niet langer een katholiek of een socialist, maar werd steeds meer een individuele, zelfbewuste burger, die zeggenschap verlangde. D\\'66 maakte serieus werk van de relatie tussen kiezer en gekozene. Elke gezagsdrager diende gekozen te worden: ook de burgemeester en de minister-president, de toppoliticus die allang niet meer de eerste onder zijns gelijken was, maar steeds meer kleur en betekenis gaf aan zijn kabinet.Meer invloed voor de kiezer werd uiteindelijk bij Geert Wilders een pleidooi om de kiezer rechtstreeks dingen te laten beslissen. In het huidige vluchtelingendebat vindt hij tenminste dat hij mag spreken van een \\'nepparlement\\', omdat volgens peilingen de meerderheid van de Nederlanders geen vluchtelingen wil. Een parlement heeft dan geen andere keus dan dat te volgen.Van Mierlo heeft ongetwijfeld meer invloed voor de kiezer nooit zo radicaal bedoeld. Maar er valt een verhaal te houden dat Wilders uiteindelijk het product is van de drang van de kiezer na de jaren zestig van de vorige eeuw om zich te laten gelden.Was D\\'66 in de grond vooral het geesteskind van ontevreden elites, Wilders keert zich als zelfbenoemde gewone jongen juist tegen deze elites.\\n\\n\\n\\n1848 Nieuwe Grondwet onder koning Willem II. Zijn portret hangt nog altijd in de Eerste Kamer.1918-1919 Het algemeen kiesrecht wordt ingevoerd. Eerst alleen voor mannen, later ook voor vrouwen.1880 Ferdinand Domela Nieuwenhuis. In de jaren tachtig van de 19de eeuw neemt de sociale onrust toe.1967 D\\'66 stormt met zeven zetels de Tweede Kamer in, onder leiding van Hans van Mierlo.2001 Pim Fortuyn op het congres van zijn partij Leefbaar Nederland. Hij werd een jaar later vermoord.\\n']"
      ]
     },
     "execution_count": 15,
     "metadata": {},
     "output_type": "execute_result"
    }
   ],
   "source": [
    "textRDD = df_texts.map(lambda x: x.text).cache()\n",
    "print(textRDD)\n",
    "textRDD.take(1)"
   ]
  },
  {
   "cell_type": "code",
   "execution_count": 16,
   "metadata": {
    "collapsed": false
   },
   "outputs": [
    {
     "name": "stdout",
     "output_type": "stream",
     "text": [
      "7744866\n"
     ]
    }
   ],
   "source": [
    "shakespeareWordsRDD = textRDD.flatMap(tokenize_and_stem)\n",
    "shakeWordsRDD = shakespeareWordsRDD.filter(lambda x: x != '')\n",
    "shakeWordCount = shakeWordsRDD.count()\n",
    "print (shakeWordCount)"
   ]
  },
  {
   "cell_type": "code",
   "execution_count": 18,
   "metadata": {
    "collapsed": false
   },
   "outputs": [
    {
     "name": "stdout",
     "output_type": "stream",
     "text": [
      "vor: 125524\n",
      "mar: 62044\n",
      "dor: 47632\n",
      "nar: 47576\n",
      "jar: 46221\n",
      "word: 40542\n",
      "mer: 37568\n",
      "hebb: 36871\n",
      "nieuw: 28805\n",
      "volgen: 27748\n",
      "nederland: 27653\n",
      "we: 27157\n",
      "war: 26639\n",
      "gen: 26638\n",
      "ander: 26449\n",
      "kunn: 25828\n",
      "mens: 24322\n",
      "gat: 24007\n",
      "dez: 23828\n",
      "teg: 23372\n",
      "vel: 23305\n",
      "wel: 22971\n",
      "twee: 22117\n",
      "eerst: 21034\n",
      "stat: 18529\n",
      "har: 18449\n",
      "grot: 18109\n",
      "zegt: 16042\n",
      "the: 15919\n",
      "gan: 15623\n",
      "lat: 15268\n",
      "wet: 15198\n",
      "dar: 14958\n",
      "miljoen: 14793\n",
      "goed: 14717\n",
      "mak: 14575\n",
      "all: 13900\n",
      "wer: 13712\n",
      "land: 13587\n",
      "wek: 13547\n",
      "mogelijk: 13384\n",
      "euro: 13367\n",
      "politie: 13200\n",
      "allen: 13075\n",
      "gebruiker: 12602\n",
      "kom: 12581\n",
      "maakt: 12371\n",
      "hel: 12181\n",
      "komt: 12024\n",
      "dag: 11843\n"
     ]
    }
   ],
   "source": [
    "topWordsAndCounts = wordCount(shakeWordsRDD).takeOrdered(50, key=lambda x: -x[1])\n",
    "print ('\\n'.join(map(lambda x: '{0}: {1}'.format(x[0], x[1]), topWordsAndCounts)))"
   ]
  },
  {
   "cell_type": "code",
   "execution_count": 19,
   "metadata": {
    "collapsed": true
   },
   "outputs": [],
   "source": [
    "from mpld3 import utils\n",
    "from mpld3 import plugins\n",
    "\n",
    "class BarLabelToolTip(plugins.PluginBase):    \n",
    "    JAVASCRIPT = \"\"\"\n",
    "    mpld3.register_plugin(\"barlabeltoolTip\", BarLabelToolTip);\n",
    "    BarLabelToolTip.prototype = Object.create(mpld3.Plugin.prototype);\n",
    "    BarLabelToolTip.prototype.constructor = BarLabelToolTip;\n",
    "    BarLabelToolTip.prototype.requiredProps = [\"id\"];\n",
    "    BarLabelToolTip.prototype.defaultProps = {\n",
    "        labels: null,\n",
    "        hoffset: 0,\n",
    "        voffset: 10,\n",
    "        location: 'mouse'\n",
    "    };\n",
    "    function BarLabelToolTip(fig, props){\n",
    "        mpld3.Plugin.call(this, fig, props);\n",
    "    };\n",
    "    \n",
    "    BarLabelToolTip.prototype.draw = function(){\n",
    "        var svg = d3.select(\"#\" + this.fig.figid);\n",
    "        var obj = svg.selectAll(\".mpld3-path\");\n",
    "\n",
    "        var labels = this.props.labels;\n",
    "        var loc = this.props.location;\n",
    "\n",
    "        this.tooltip = this.fig.canvas.append(\"text\")\n",
    "            .attr(\"class\", \"mpld3-tooltip-text\")\n",
    "            .attr(\"x\", 0)\n",
    "            .attr(\"y\", 0)\n",
    "            .text(\"\")\n",
    "            .style(\"visibility\", \"hidden\");\n",
    "\n",
    "        function mouseover(d, i) {\n",
    "            this.tooltip\n",
    "                .style(\"visibility\", \"visible\")\n",
    "                .text(labels[i]);\n",
    "        }\n",
    "\n",
    "        function mousemove(d, i) {\n",
    "            if (loc === \"mouse\") {\n",
    "                var pos = d3.mouse(this.fig.canvas.node())\n",
    "                this.x = pos[0] + this.props.hoffset;\n",
    "                this.y = pos[1] - this.props.voffset;\n",
    "            }\n",
    "\n",
    "            this.tooltip\n",
    "                .attr('x', this.x)\n",
    "                .attr('y', this.y);\n",
    "        }\n",
    "\n",
    "        function mouseout(d, i) {\n",
    "            this.tooltip.style(\"visibility\", \"hidden\");\n",
    "        }\n",
    "\n",
    "        obj\n",
    "            .on(\"mouseover\", mouseover.bind(this))\n",
    "            .on(\"mousemove\", mousemove.bind(this))\n",
    "            .on(\"mouseout\", mouseout.bind(this));        \n",
    "    }\n",
    "    \"\"\"\n",
    "    def __init__(self, bar, labels=None, location=\"mouse\"):\n",
    "        import matplotlib\n",
    "        from mpld3.utils import get_id\n",
    "\n",
    "        if location not in [\"bottom left\", \"top left\", \"bottom right\",\n",
    "                            \"top right\", \"mouse\"]:\n",
    "            raise ValueError(\"invalid location: {0}\".format(location))\n",
    "\n",
    "        self.dict_ = {\"type\": \"barlabeltoolTip\",\n",
    "                      \"id\": get_id(bar),\n",
    "                      \"labels\": labels,\n",
    "                      \"location\": location}"
   ]
  },
  {
   "cell_type": "code",
   "execution_count": 20,
   "metadata": {
    "collapsed": false
   },
   "outputs": [
    {
     "name": "stdout",
     "output_type": "stream",
     "text": [
      "Rectangle(0,0;0.8x125524)\n"
     ]
    },
    {
     "data": {
      "image/png": "[encoded data removed]",
      "text/plain": [
       "<matplotlib.figure.Figure at 0x7f5642078ba8>"
      ]
     },
     "metadata": {},
     "output_type": "display_data"
    }
   ],
   "source": [
    "from mpld3 import plugins\n",
    "fig, ax = plt.subplots()\n",
    "\n",
    "#ax = fig.add_subplot(111, axisbg='#EEEEEE')\n",
    "#ax.grid(color='white', linestyle='solid')\n",
    "\n",
    "x = [_[1] for _ in topWordsAndCounts]\n",
    "labels = [_[0] for _ in topWordsAndCounts]\n",
    "\n",
    "bars = ax.bar(range(len(x)), height=x, fc='lightblue', alpha=0.5)\n",
    "a1 = list(bars)\n",
    "print(a1[0])\n",
    "tooltip = BarLabelToolTip(a1, labels=labels)\n",
    "\n",
    "plugins.connect(fig, tooltip)"
   ]
  },
  {
   "cell_type": "code",
   "execution_count": null,
   "metadata": {
    "collapsed": true
   },
   "outputs": [],
   "source": [
    "from pyspark.mllib.clustering import LDA, LDAModel\n",
    "from pyspark.mllib.linalg import Vectors\n",
    "from pyspark.mllib.feature import Word2Vec"
   ]
  },
  {
   "cell_type": "code",
   "execution_count": null,
   "metadata": {
    "collapsed": false
   },
   "outputs": [],
   "source": [
    "words_per_doc = df_texts.map(lambda x: tokenize_and_stem(x.text)).cache()\n",
    "#docs, _ = words_per_doc.randomSplit([0.1, 0.9], seed=1)\n",
    "docs = words_per_doc\n",
    "docs.take(1)[0][:10]"
   ]
  },
  {
   "cell_type": "code",
   "execution_count": null,
   "metadata": {
    "collapsed": false
   },
   "outputs": [],
   "source": [
    "#model = Word2Vec().setVectorSize(10).setSeed(42).fit(docs)"
   ]
  },
  {
   "cell_type": "code",
   "execution_count": null,
   "metadata": {
    "collapsed": false
   },
   "outputs": [],
   "source": [
    "# vocab determines word -> vector component index\n",
    "vocab = docs.flatMap(lambda x: x).distinct().zipWithIndex().collectAsMap()\n",
    "idx2word = {}\n",
    "for k, v in vocab.items():\n",
    "    idx2word[v] = k\n",
    "print(len(vocab))"
   ]
  },
  {
   "cell_type": "code",
   "execution_count": null,
   "metadata": {
    "collapsed": false
   },
   "outputs": [],
   "source": [
    "from collections import defaultdict\n",
    "\n",
    "def text2vec(words):\n",
    "    n = len(vocab)\n",
    "    counts = defaultdict(int)\n",
    "    for word in words:\n",
    "        counts[word] += 1\n",
    "    idx_count_pairs = [(vocab[_],counts[_]) for _ in set(words)]\n",
    "    v = Vectors.sparse(n, idx_count_pairs)\n",
    "    return v\n",
    "    \n",
    "\n",
    "text2vec('snapchat snap teg snapchat kunn af'.split())"
   ]
  },
  {
   "cell_type": "code",
   "execution_count": null,
   "metadata": {
    "collapsed": false
   },
   "outputs": [],
   "source": [
    "data = docs.map(text2vec)"
   ]
  },
  {
   "cell_type": "code",
   "execution_count": null,
   "metadata": {
    "collapsed": false
   },
   "outputs": [],
   "source": [
    "from pyspark.mllib.feature import IDF\n",
    "idf = IDF()\n",
    "model = idf.fit(data)\n",
    "tfidf = model.transform(data)"
   ]
  },
  {
   "cell_type": "code",
   "execution_count": null,
   "metadata": {
    "collapsed": false
   },
   "outputs": [],
   "source": [
    "corpus = tfidf.zipWithIndex().map(lambda x: [x[1], x[0]]).cache()"
   ]
  },
  {
   "cell_type": "code",
   "execution_count": null,
   "metadata": {
    "collapsed": false
   },
   "outputs": [],
   "source": [
    "nr_topics = 30\n",
    "ldaModel = LDA.train(corpus, k=nr_topics)"
   ]
  },
  {
   "cell_type": "code",
   "execution_count": null,
   "metadata": {
    "collapsed": false
   },
   "outputs": [],
   "source": [
    "# Output topics. Each is a distribution over words (matching word count vectors)\n",
    "print(\"Learned topics (as distributions over vocab of \" + str(ldaModel.vocabSize()) + \" words):\")\n",
    "topics = ldaModel.topicsMatrix()"
   ]
  },
  {
   "cell_type": "code",
   "execution_count": null,
   "metadata": {
    "collapsed": false
   },
   "outputs": [],
   "source": [
    "import numpy as np"
   ]
  },
  {
   "cell_type": "code",
   "execution_count": null,
   "metadata": {
    "collapsed": false
   },
   "outputs": [],
   "source": [
    "word_per_topic = {}\n",
    "for topic in range(nr_topics):\n",
    "    word_per_topic[topic] = []\n",
    "    for word in range(0, ldaModel.vocabSize()):\n",
    "        #print(\" \", idx2word[word], str(topics[word][topic]))\n",
    "        word_per_topic[topic].append((topics[word][topic], idx2word[word]))"
   ]
  },
  {
   "cell_type": "code",
   "execution_count": null,
   "metadata": {
    "collapsed": false
   },
   "outputs": [],
   "source": [
    "for topic in range(nr_topics):\n",
    "    print(\"Topic \" + str(topic) + \":\")   \n",
    "    print('\\n'.join(['{}: {}'.format(_[0], _[1]) for _ in sorted(word_per_topic[topic], reverse=True)[:18]]))"
   ]
  },
  {
   "cell_type": "code",
   "execution_count": null,
   "metadata": {
    "collapsed": true
   },
   "outputs": [],
   "source": [
    ""
   ]
  }
 ],
 "metadata": {
  "kernelspec": {
   "display_name": "Python 3",
   "language": "python",
   "name": "python3"
  },
  "language_info": {
   "codemirror_mode": {
    "name": "ipython",
    "version": 3.0
   },
   "file_extension": ".py",
   "mimetype": "text/x-python",
   "name": "python",
   "nbconvert_exporter": "python",
   "pygments_lexer": "ipython3",
   "version": "3.4.3"
  }
 },
 "nbformat": 4,
 "nbformat_minor": 0
}