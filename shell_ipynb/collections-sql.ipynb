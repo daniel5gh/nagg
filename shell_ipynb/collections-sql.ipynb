{
 "cells": [
  {
   "cell_type": "code",
   "execution_count": null,
   "metadata": {
    "collapsed": false
   },
   "outputs": [],
   "source": [
    "import django\n",
    "django.setup()\n",
    "from nagg.models import NewsItemCollection, NewsItem, NewsItemCollectionMembership"
   ]
  },
  {
   "cell_type": "code",
   "execution_count": null,
   "metadata": {
    "collapsed": false
   },
   "outputs": [],
   "source": [
    "nic = NewsItemCollection.objects.get(id=2)\n",
    "ni1 = NewsItem.objects.get(id=2)"
   ]
  },
  {
   "cell_type": "code",
   "execution_count": null,
   "metadata": {
    "collapsed": false
   },
   "outputs": [],
   "source": [
    "# qs = nic.items.all().extra(select={'membership_id': '\"nagg_newsitemcollectionmembership\".\"id\"'})\n",
    "qs = nic.newsitemcollectionmembership_set.select_related()\n",
    "#print(qs)\n",
    "#.objects.select_related(\"items\")\n",
    "print()\n",
    "print(qs.query)\n",
    "print()\n",
    "a = qs.all()[0]"
   ]
  },
  {
   "cell_type": "code",
   "execution_count": null,
   "metadata": {
    "collapsed": false
   },
   "outputs": [],
   "source": [
    "nic = NewsItemCollection.objects.get(id=2)\n",
    "qs = nic.newsitemcollectionmembership_set.select_related('newsitem')\n",
    "#qs = nic.newsitemcollectionmembership_set.all()\n",
    "print(qs.query, '\\n')\n",
    "qs.query.add_fields(['data',], True)\n",
    "print(qs.query, '\\n')"
   ]
  },
  {
   "cell_type": "code",
   "execution_count": null,
   "metadata": {
    "collapsed": false
   },
   "outputs": [],
   "source": [
    "nicm = NewsItemCollectionMembership.objects.create(newsitem=NewsItem.objects.get(id=4), newsitemcollection=nic)"
   ]
  },
  {
   "cell_type": "code",
   "execution_count": null,
   "metadata": {
    "collapsed": false
   },
   "outputs": [],
   "source": [
    "nic.items.all()"
   ]
  },
  {
   "cell_type": "code",
   "execution_count": null,
   "metadata": {
    "collapsed": false
   },
   "outputs": [],
   "source": [
    "str(nic.items.filter(newsitemcollection=nic).query)"
   ]
  },
  {
   "cell_type": "code",
   "execution_count": null,
   "metadata": {
    "collapsed": false
   },
   "outputs": [],
   "source": [
    "str(nic.items.filter(newsitemcollection=nic).query)"
   ]
  },
  {
   "cell_type": "code",
   "execution_count": null,
   "metadata": {
    "collapsed": true
   },
   "outputs": [],
   "source": [
    "qs = NewsItem.objects.all().filter(id__lt=10)"
   ]
  },
  {
   "cell_type": "code",
   "execution_count": null,
   "metadata": {
    "collapsed": false
   },
   "outputs": [],
   "source": [
    "qs.query.where"
   ]
  },
  {
   "cell_type": "code",
   "execution_count": null,
   "metadata": {
    "collapsed": false
   },
   "outputs": [],
   "source": [
    "from django.db import connection\n",
    "sql =\"\"\"select word, ndoc from ts_stat(\n",
    "'SELECT \"nagg_newsitem\".\"search_index\" FROM \"nagg_newsitem\" INNER JOIN \"nagg_newsitemcollectionmembership\" ON (\"nagg_newsitem\".\"id\" = \"nagg_newsitemcollectionmembership\".\"newsitem_id\") WHERE \"nagg_newsitemcollectionmembership\".\"newsitemcollection_id\" = %d'\n",
    ") order by ndoc desc limit(1000);\"\"\"\n",
    "cursor = connection.cursor()\n",
    "cursor.execute(sql % 2)\n",
    "ndocs = dict(cursor.fetchall())\n",
    "print(ndocs)"
   ]
  },
  {
   "cell_type": "code",
   "execution_count": 17,
   "metadata": {
    "collapsed": false
   },
   "outputs": [
    {
     "name": "stderr",
     "output_type": "stream",
     "text": [
      "DEBUG:__main__:1\n",
      "DEBUG:root:2\n",
      "DEBUG:psycopg2:ha\n"
     ]
    }
   ],
   "source": [
    "import psycopg2\n",
    "import logging\n",
    "import imp\n",
    "# IPython already messed with logging, reset it\n",
    "imp.reload(logging)\n",
    "logging.basicConfig(level=logging.DEBUG)\n",
    "_log = logging.getLogger(__name__)\n",
    "_log.debug(1)\n",
    "logging.debug(2)\n",
    "logging.getLogger(\"psycopg2\").debug('ha')"
   ]
  },
  {
   "cell_type": "code",
   "execution_count": 18,
   "metadata": {
    "collapsed": false
   },
   "outputs": [],
   "source": [
    "conn = psycopg2.connect(database=\"naggdb\", user=\"nagg\", password=\"nagg\", host=\"10.0.3.7\")"
   ]
  },
  {
   "cell_type": "code",
   "execution_count": 19,
   "metadata": {
    "collapsed": true
   },
   "outputs": [],
   "source": [
    "c = conn.cursor()"
   ]
  },
  {
   "cell_type": "code",
   "execution_count": 20,
   "metadata": {
    "collapsed": false
   },
   "outputs": [],
   "source": [
    "c.executemany(\"\"\"UPDATE nagg_newsitemcollectionmembership SET data = %s WHERE id = %s;\"\"\", (\n",
    "          ('{\"value\": 12}', 12),\n",
    "          ('{\"value\": 13}', 13),\n",
    "             ))"
   ]
  },
  {
   "cell_type": "code",
   "execution_count": 21,
   "metadata": {
    "collapsed": false
   },
   "outputs": [],
   "source": [
    "conn.commit()"
   ]
  },
  {
   "cell_type": "code",
   "execution_count": null,
   "metadata": {
    "collapsed": true
   },
   "outputs": [],
   "source": [
    "conn.rollback()"
   ]
  },
  {
   "cell_type": "code",
   "execution_count": 27,
   "metadata": {
    "collapsed": false
   },
   "outputs": [
    {
     "data": {
      "text/plain": [
       "'/home/daniel/.virtualenvs/naggenv/lib/python3.4/site-packages/psycopg2/__init__.py'"
      ]
     },
     "execution_count": 27,
     "metadata": {},
     "output_type": "execute_result"
    }
   ],
   "source": [
    "psycopg2.__file__"
   ]
  },
  {
   "cell_type": "code",
   "execution_count": null,
   "metadata": {
    "collapsed": true
   },
   "outputs": [],
   "source": [
    ""
   ]
  }
 ],
 "metadata": {
  "kernelspec": {
   "display_name": "Python 3",
   "language": "python",
   "name": "python3"
  },
  "language_info": {
   "codemirror_mode": {
    "name": "ipython",
    "version": 3.0
   },
   "file_extension": ".py",
   "mimetype": "text/x-python",
   "name": "python",
   "nbconvert_exporter": "python",
   "pygments_lexer": "ipython3",
   "version": "3.4.3"
  }
 },
 "nbformat": 4,
 "nbformat_minor": 0
}